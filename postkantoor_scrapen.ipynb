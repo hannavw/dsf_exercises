{
 "cells": [
  {
   "cell_type": "code",
   "execution_count": 60,
   "metadata": {},
   "outputs": [],
   "source": [
    "from bs4 import BeautifulSoup\n",
    "from IPython.display import display, HTML"
   ]
  },
  {
   "cell_type": "code",
   "execution_count": 61,
   "metadata": {},
   "outputs": [],
   "source": [
    "#http://www.postkantoordelft.nl/\n",
    "with open(\"postkantoor.html\") as f:\n",
    "    homepage = BeautifulSoup(f, \"lxml\")"
   ]
  },
  {
   "cell_type": "code",
   "execution_count": 62,
   "metadata": {},
   "outputs": [
    {
     "name": "stdout",
     "output_type": "stream",
     "text": [
      "'t Postkantoor\n"
     ]
    }
   ],
   "source": [
    "title = homepage.select(\"title\")\n",
    "title = title[0].get_text().strip()\n",
    "\n",
    "print(title)"
   ]
  },
  {
   "cell_type": "code",
   "execution_count": 66,
   "metadata": {},
   "outputs": [
    {
     "name": "stdout",
     "output_type": "stream",
     "text": [
      "Telephone number: 015 - 750 32 43\n",
      "Address: Hippolytusbuurt 142611 HN Delft\n"
     ]
    }
   ],
   "source": [
    "tel = homepage.select(\"p\")\n",
    "#print(tel)\n",
    "tel = tel[11].get_text().strip()\n",
    "print(f'Telephone number: {tel[0:15]}')\n",
    "#address = address[0].get_text().strip()\n",
    "\n",
    "address = homepage.select(\"p\")\n",
    "address = address[10].get_text()\n",
    "print(f'Address: {address}')"
   ]
  },
  {
   "cell_type": "code",
   "execution_count": 72,
   "metadata": {},
   "outputs": [
    {
     "data": {
      "text/html": [
       "<a href=<a class=\"moduleItemTitle\" href=\"/nieuws/item/55-paasontbijt-1e-en-2e-paasdag\"><h4>Paasontbijt 1e en 2e Paasdag!</h4></a></a>"
      ],
      "text/plain": [
       "<IPython.core.display.HTML object>"
      ]
     },
     "metadata": {},
     "output_type": "display_data"
    }
   ],
   "source": [
    "easter = homepage.select(\".moduleItemTitle\")\n",
    "url = easter[0]\n",
    "display(HTML(f'<a href={url}</a>'))"
   ]
  },
  {
   "cell_type": "code",
   "execution_count": null,
   "metadata": {},
   "outputs": [],
   "source": []
  }
 ],
 "metadata": {
  "kernelspec": {
   "display_name": "Python 3",
   "language": "python",
   "name": "python3"
  },
  "language_info": {
   "codemirror_mode": {
    "name": "ipython",
    "version": 3
   },
   "file_extension": ".py",
   "mimetype": "text/x-python",
   "name": "python",
   "nbconvert_exporter": "python",
   "pygments_lexer": "ipython3",
   "version": "3.6.5"
  }
 },
 "nbformat": 4,
 "nbformat_minor": 2
}
